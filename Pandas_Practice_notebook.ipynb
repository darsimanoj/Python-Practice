{
  "nbformat": 4,
  "nbformat_minor": 0,
  "metadata": {
    "colab": {
      "name": "Pandas_Practice_notebook.ipynb",
      "provenance": [],
      "private_outputs": true,
      "include_colab_link": true
    },
    "kernelspec": {
      "name": "python3",
      "display_name": "Python 3"
    }
  },
  "cells": [
    {
      "cell_type": "markdown",
      "metadata": {
        "id": "view-in-github",
        "colab_type": "text"
      },
      "source": [
        "<a href=\"https://colab.research.google.com/github/darsimanoj/Python-Practice/blob/master/Pandas_Practice_notebook.ipynb\" target=\"_parent\"><img src=\"https://colab.research.google.com/assets/colab-badge.svg\" alt=\"Open In Colab\"/></a>"
      ]
    },
    {
      "cell_type": "markdown",
      "metadata": {
        "id": "QmLcx3UyVCoi",
        "colab_type": "text"
      },
      "source": [
        "## Pandas"
      ]
    },
    {
      "cell_type": "markdown",
      "metadata": {
        "id": "a7yix3imVWJx",
        "colab_type": "text"
      },
      "source": [
        "### Exercise 1: Read the file (samplemoviesdata.csv) into pandas dataframe"
      ]
    },
    {
      "cell_type": "code",
      "metadata": {
        "id": "yjhPKW7KU6Xc",
        "colab_type": "code",
        "colab": {}
      },
      "source": [
        "### your code here"
      ],
      "execution_count": 0,
      "outputs": []
    },
    {
      "cell_type": "markdown",
      "metadata": {
        "id": "Y5sTJNlOVbHp",
        "colab_type": "text"
      },
      "source": [
        "### Exercise 2: print the full summary of the dataframe"
      ]
    },
    {
      "cell_type": "code",
      "metadata": {
        "id": "Lo0uuLVRVk5y",
        "colab_type": "code",
        "colab": {}
      },
      "source": [
        "### your code here"
      ],
      "execution_count": 0,
      "outputs": []
    },
    {
      "cell_type": "markdown",
      "metadata": {
        "id": "Gi16ufjDVm8N",
        "colab_type": "text"
      },
      "source": [
        "### Exercise 3: Remove information of the movie which doesn’t have information on when the movie came out"
      ]
    },
    {
      "cell_type": "code",
      "metadata": {
        "id": "aEJOtrdqVs--",
        "colab_type": "code",
        "colab": {}
      },
      "source": [
        "### your code here"
      ],
      "execution_count": 0,
      "outputs": []
    },
    {
      "cell_type": "markdown",
      "metadata": {
        "id": "xzEHdi5kVuv_",
        "colab_type": "text"
      },
      "source": [
        "### Exercise 4: Change all movie titles to uppercase"
      ]
    },
    {
      "cell_type": "code",
      "metadata": {
        "id": "bhdFl6WiVzNA",
        "colab_type": "code",
        "colab": {}
      },
      "source": [
        "### your code here"
      ],
      "execution_count": 0,
      "outputs": []
    },
    {
      "cell_type": "markdown",
      "metadata": {
        "id": "aaa6WpBEV2pF",
        "colab_type": "text"
      },
      "source": [
        "### Exercise 5: Remove the movie titles trailing whitespaces"
      ]
    },
    {
      "cell_type": "code",
      "metadata": {
        "id": "7HN--1MBV7si",
        "colab_type": "code",
        "colab": {}
      },
      "source": [
        "### your code here"
      ],
      "execution_count": 0,
      "outputs": []
    },
    {
      "cell_type": "markdown",
      "metadata": {
        "id": "iwVYe2iI2l8u",
        "colab_type": "text"
      },
      "source": [
        "## Numpy"
      ]
    },
    {
      "cell_type": "markdown",
      "metadata": {
        "id": "b9SVflglRDWk",
        "colab_type": "text"
      },
      "source": [
        "\n",
        "### Exercise 01: Form an array using np.arange which contains all even numbers. 10 to 30\n"
      ]
    },
    {
      "cell_type": "code",
      "metadata": {
        "id": "l32CNHMX6bH5",
        "colab_type": "code",
        "colab": {}
      },
      "source": [
        "#your code here"
      ],
      "execution_count": 0,
      "outputs": []
    },
    {
      "cell_type": "markdown",
      "metadata": {
        "id": "9fMPdoYO_6TX",
        "colab_type": "text"
      },
      "source": [
        "### Exercise 02: Create an array of evenly spaced numbers upto 24 as one dimentional and reshape it to (2,4,3)"
      ]
    }
  ]
}