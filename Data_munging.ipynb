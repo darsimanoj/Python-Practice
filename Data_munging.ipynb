{
  "nbformat": 4,
  "nbformat_minor": 0,
  "metadata": {
    "colab": {
      "name": "Data_munging.ipynb",
      "provenance": [],
      "collapsed_sections": [],
      "include_colab_link": true
    },
    "kernelspec": {
      "name": "python3",
      "display_name": "Python 3"
    }
  },
  "cells": [
    {
      "cell_type": "markdown",
      "metadata": {
        "id": "view-in-github",
        "colab_type": "text"
      },
      "source": [
        "<a href=\"https://colab.research.google.com/github/darsimanoj/Python-Practice/blob/master/Data_munging.ipynb\" target=\"_parent\"><img src=\"https://colab.research.google.com/assets/colab-badge.svg\" alt=\"Open In Colab\"/></a>"
      ]
    },
    {
      "cell_type": "markdown",
      "metadata": {
        "id": "e5_uG5QyzF95",
        "colab_type": "text"
      },
      "source": [
        "## Pandas"
      ]
    },
    {
      "cell_type": "markdown",
      "metadata": {
        "id": "7DyieCzoGrWG",
        "colab_type": "text"
      },
      "source": [
        "### Data Description:\n",
        "\n",
        "* The dataset is made up of 1016810 rows and 7 columns. \n",
        "\n",
        "* Each line is the data of one student\n",
        "\n",
        "* The seven columns correspond to \n",
        "   - Region Code\n",
        "   - student id\n",
        "   - English marks\n",
        "   - First Language marks\n",
        "   - Math marks\n",
        "   - Science marks\n",
        "   - Social marks\n",
        "* The marks for the students absent  for the exam are sometimes denoted by 'A', sometimes denoted by ' AA', sometimes denoted by 'AAA' and sometimes denoted by 'G'\n",
        "\n",
        "* If the student is not marked as absent but no marks in a subject then he is a supplementary candidate."
      ]
    },
    {
      "cell_type": "markdown",
      "metadata": {
        "id": "wLcx8LeUJfJq",
        "colab_type": "text"
      },
      "source": [
        "#### Exercise 1 :\n",
        "\n",
        "Load the dataset using Pandas and drop all the supplementary candidates from the dataset"
      ]
    },
    {
      "cell_type": "code",
      "metadata": {
        "id": "EnjXfohrKdIx",
        "colab_type": "code",
        "colab": {}
      },
      "source": [
        "#### Your Code Here"
      ],
      "execution_count": 0,
      "outputs": []
    },
    {
      "cell_type": "markdown",
      "metadata": {
        "id": "5uWEzk58znbS",
        "colab_type": "text"
      },
      "source": [
        "### Exercise 2:\n",
        "Display the first and last 5 rows of the data"
      ]
    },
    {
      "cell_type": "code",
      "metadata": {
        "id": "Py_cBUi9yD8d",
        "colab_type": "code",
        "colab": {}
      },
      "source": [
        "#### Your Code Here"
      ],
      "execution_count": 0,
      "outputs": []
    },
    {
      "cell_type": "markdown",
      "metadata": {
        "id": "omQaBoJDKfbf",
        "colab_type": "text"
      },
      "source": [
        "#### Exercise 3 :\n",
        "\n",
        "Standardize the indication  for the absent students. \n",
        "\n",
        "For example replace all absentees notation with  'ABS'"
      ]
    },
    {
      "cell_type": "code",
      "metadata": {
        "id": "phciZzvCLh3J",
        "colab_type": "code",
        "colab": {}
      },
      "source": [
        "#### Your Code Here"
      ],
      "execution_count": 0,
      "outputs": []
    },
    {
      "cell_type": "markdown",
      "metadata": {
        "id": "zRjrEs5BLkQT",
        "colab_type": "text"
      },
      "source": [
        "#### Exercise 4 :\n",
        "\n",
        "Draw a stacked bar plot. Representing regions verus number of students with first class, number of students with second class and number of students with third class. \n",
        "\n",
        "* First class >= 60\n",
        "* Second class >= 50\n",
        "* Third class  >= 40"
      ]
    },
    {
      "cell_type": "code",
      "metadata": {
        "id": "M9W0yig80N34",
        "colab_type": "code",
        "colab": {}
      },
      "source": [
        "#### Your Code Here"
      ],
      "execution_count": 0,
      "outputs": []
    }
  ]
}